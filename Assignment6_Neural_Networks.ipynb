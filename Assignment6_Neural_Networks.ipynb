{
  "nbformat": 4,
  "nbformat_minor": 0,
  "metadata": {
    "colab": {
      "name": "Assignment6_Neural_Networks.ipynb",
      "provenance": [],
      "collapsed_sections": [],
      "toc_visible": true,
      "include_colab_link": true
    },
    "kernelspec": {
      "display_name": "Python 3",
      "language": "python",
      "name": "python3"
    },
    "language_info": {
      "codemirror_mode": {
        "name": "ipython",
        "version": 3
      },
      "file_extension": ".py",
      "mimetype": "text/x-python",
      "name": "python",
      "nbconvert_exporter": "python",
      "pygments_lexer": "ipython3",
      "version": "3.8.5"
    }
  },
  "cells": [
    {
      "cell_type": "markdown",
      "metadata": {
        "id": "view-in-github",
        "colab_type": "text"
      },
      "source": [
        "<a href=\"https://colab.research.google.com/github/szhang12345/MSDS-422-Assignment-6-Neural-Networks/blob/main/Assignment6_Neural_Networks.ipynb\" target=\"_parent\"><img src=\"https://colab.research.google.com/assets/colab-badge.svg\" alt=\"Open In Colab\"/></a>"
      ]
    },
    {
      "cell_type": "markdown",
      "metadata": {
        "id": "3p4IoLQUz3Px"
      },
      "source": [
        "###### **MSDS 422 Assignment 6: Neural Networks**\n",
        "\n",
        "**By Siying Zhang**\n",
        "\n",
        "**Topic: Digit Recognizer**\n"
      ]
    },
    {
      "cell_type": "markdown",
      "metadata": {
        "id": "_2NRJL0ozg6A"
      },
      "source": [
        "# Ingest"
      ]
    },
    {
      "cell_type": "code",
      "metadata": {
        "id": "rwIWqBuC1PFI"
      },
      "source": [
        "from __future__ import division, print_function, unicode_literals\n",
        "\n",
        "# import base packages into the namespace for this program\n",
        "import numpy as np\n",
        "import os\n",
        "import pandas as pd\n",
        "from pandas.plotting import scatter_matrix\n",
        "import tensorflow.compat.v1 as tf\n",
        "import datetime\n",
        "import os.path"
      ],
      "execution_count": null,
      "outputs": []
    },
    {
      "cell_type": "markdown",
      "metadata": {
        "id": "dwKr38qAodhg"
      },
      "source": [
        "Reading Data"
      ]
    },
    {
      "cell_type": "code",
      "metadata": {
        "id": "Hp7r8IP0sZAU"
      },
      "source": [
        "# Load training and testing data directly from TensorFlow and convert datatype\n",
        "(X_train, y_train), (X_test, y_test) = tf.keras.datasets.mnist.load_data()\n",
        "X_train = X_train.astype(np.float32).reshape(-1, 28*28) / 255.0\n",
        "X_test = X_test.astype(np.float32).reshape(-1, 28*28) / 255.0\n",
        "y_train = y_train.astype(np.int32)\n",
        "y_test = y_test.astype(np.int32)"
      ],
      "execution_count": null,
      "outputs": []
    },
    {
      "cell_type": "markdown",
      "metadata": {
        "id": "1rTQ2--k0hDe"
      },
      "source": [
        "# EDA"
      ]
    },
    {
      "cell_type": "code",
      "metadata": {
        "colab": {
          "base_uri": "https://localhost:8080/"
        },
        "id": "DTWxNOiFxTr_",
        "outputId": "540f7a72-98b9-42ae-a60b-a36c98b788c6"
      },
      "source": [
        "# check the pandas DataFrame object training data\n",
        "print('\\nGeneral description of train set:')\n",
        "print(train.info())\n",
        "\n",
        "print('\\nDescriptive statistics of train set:')\n",
        "print(train.describe())"
      ],
      "execution_count": null,
      "outputs": [
        {
          "output_type": "stream",
          "text": [
            "\n",
            "General description of train set:\n",
            "<class 'pandas.core.frame.DataFrame'>\n",
            "RangeIndex: 60000 entries, 0 to 59999\n",
            "Columns: 785 entries, label to 28x28\n",
            "dtypes: int64(785)\n",
            "memory usage: 359.3 MB\n",
            "None\n",
            "\n",
            "Descriptive statistics of train set:\n",
            "              label      1x1      1x2      1x3      1x4      1x5      1x6  \\\n",
            "count  60000.000000  60000.0  60000.0  60000.0  60000.0  60000.0  60000.0   \n",
            "mean       4.453933      0.0      0.0      0.0      0.0      0.0      0.0   \n",
            "std        2.889270      0.0      0.0      0.0      0.0      0.0      0.0   \n",
            "min        0.000000      0.0      0.0      0.0      0.0      0.0      0.0   \n",
            "25%        2.000000      0.0      0.0      0.0      0.0      0.0      0.0   \n",
            "50%        4.000000      0.0      0.0      0.0      0.0      0.0      0.0   \n",
            "75%        7.000000      0.0      0.0      0.0      0.0      0.0      0.0   \n",
            "max        9.000000      0.0      0.0      0.0      0.0      0.0      0.0   \n",
            "\n",
            "           1x7      1x8      1x9  ...         28x19         28x20  \\\n",
            "count  60000.0  60000.0  60000.0  ...  60000.000000  60000.000000   \n",
            "mean       0.0      0.0      0.0  ...      0.200433      0.088867   \n",
            "std        0.0      0.0      0.0  ...      6.042472      3.956189   \n",
            "min        0.0      0.0      0.0  ...      0.000000      0.000000   \n",
            "25%        0.0      0.0      0.0  ...      0.000000      0.000000   \n",
            "50%        0.0      0.0      0.0  ...      0.000000      0.000000   \n",
            "75%        0.0      0.0      0.0  ...      0.000000      0.000000   \n",
            "max        0.0      0.0      0.0  ...    254.000000    254.000000   \n",
            "\n",
            "              28x21         28x22         28x23       28x24    28x25    28x26  \\\n",
            "count  60000.000000  60000.000000  60000.000000  60000.0000  60000.0  60000.0   \n",
            "mean       0.045633      0.019283      0.015117      0.0020      0.0      0.0   \n",
            "std        2.839845      1.686770      1.678283      0.3466      0.0      0.0   \n",
            "min        0.000000      0.000000      0.000000      0.0000      0.0      0.0   \n",
            "25%        0.000000      0.000000      0.000000      0.0000      0.0      0.0   \n",
            "50%        0.000000      0.000000      0.000000      0.0000      0.0      0.0   \n",
            "75%        0.000000      0.000000      0.000000      0.0000      0.0      0.0   \n",
            "max      253.000000    253.000000    254.000000     62.0000      0.0      0.0   \n",
            "\n",
            "         28x27    28x28  \n",
            "count  60000.0  60000.0  \n",
            "mean       0.0      0.0  \n",
            "std        0.0      0.0  \n",
            "min        0.0      0.0  \n",
            "25%        0.0      0.0  \n",
            "50%        0.0      0.0  \n",
            "75%        0.0      0.0  \n",
            "max        0.0      0.0  \n",
            "\n",
            "[8 rows x 785 columns]\n"
          ],
          "name": "stdout"
        }
      ]
    },
    {
      "cell_type": "code",
      "metadata": {
        "colab": {
          "base_uri": "https://localhost:8080/"
        },
        "id": "hd8N4VABiQWy",
        "scrolled": true,
        "outputId": "9e3a3b58-5b4a-4ba4-a963-2f490d780228"
      },
      "source": [
        "#test and train set shape\n",
        "print(X_train.shape)\n",
        "print(y_train.shape)\n",
        "print(X_test.shape)\n",
        "print(y_test.shape)"
      ],
      "execution_count": null,
      "outputs": [
        {
          "output_type": "stream",
          "text": [
            "(60000, 784)\n",
            "(60000,)\n",
            "(10000, 784)\n",
            "(10000,)\n"
          ],
          "name": "stdout"
        }
      ]
    },
    {
      "cell_type": "code",
      "metadata": {
        "scrolled": true,
        "id": "iFwTZLGrsZAW",
        "outputId": "0945ae51-f7fd-4f6f-f5d8-c4d3192dab72"
      },
      "source": [
        "print('Training data shape', X_train.shape)\n",
        "_, (ax1, ax2) = plt.subplots(1, 2)\n",
        "ax1.imshow(X_train[4].reshape(28, 28), cmap=plt.cm.Greys);\n",
        "ax2.imshow(X_train[96].reshape(28, 28), cmap=plt.cm.Greys);"
      ],
      "execution_count": null,
      "outputs": [
        {
          "output_type": "stream",
          "text": [
            "Training data shape (60000, 784)\n"
          ],
          "name": "stdout"
        },
        {
          "output_type": "display_data",
          "data": {
            "image/png": "[encoded data removed]",
            "text/plain": [
              "<Figure size 432x288 with 2 Axes>"
            ]
          },
          "metadata": {
            "tags": [],
            "needs_background": "light"
          }
        }
      ]
    },
    {
      "cell_type": "markdown",
      "metadata": {
        "id": "Dhs9ERqW0j_N"
      },
      "source": [
        "# Modeling"
      ]
    },
    {
      "cell_type": "markdown",
      "metadata": {
        "id": "sHkhz6CSAU5Z"
      },
      "source": [
        "Dictionary for result tracking"
      ]
    },
    {
      "cell_type": "code",
      "metadata": {
        "id": "CUoR8e4aAT7L"
      },
      "source": [
        "# Initialize a dictionary to track results\n",
        "metrics = {}\n",
        "\n",
        "# Metrics for evaluation\n",
        "names = ['Number of Hidden Layers', 'Nodes per Layer', 'Processing Time',\n",
        "         'Training Set Accuracy', 'Test Set Accuracy']\n"
      ],
      "execution_count": null,
      "outputs": []
    },
    {
      "cell_type": "markdown",
      "metadata": {
        "id": "C-yd6-c6iQW2"
      },
      "source": [
        "Parameters Setting"
      ]
    },
    {
      "cell_type": "code",
      "metadata": {
        "id": "NaVPXKAisZAY"
      },
      "source": [
        "# Set fixed parameters\n",
        "n_epochs = 20\n",
        "batch_size = 50\n",
        "learning_rate = 0.01\n",
        "\n",
        "\n",
        "# Function that creates batch generator used in training\n",
        "def shuffle_batch(X, y, batch_size):\n",
        "    rnd_idx = np.random.permutation(len(X))\n",
        "    n_batches = len(X) // batch_size\n",
        "    for batch_idx in np.array_split(rnd_idx, n_batches):\n",
        "        X_batch, y_batch = X[batch_idx], y[batch_idx]\n",
        "        yield X_batch, y_batch\n"
      ],
      "execution_count": null,
      "outputs": []
    },
    {
      "cell_type": "markdown",
      "metadata": {
        "id": "UghhKkOfsZAY"
      },
      "source": [
        "Model 1: 2 Hidden Layers with 50 Nodes per Layer"
      ]
    },
    {
      "cell_type": "code",
      "metadata": {
        "id": "FKFkVl_usZAZ",
        "outputId": "72c03ed1-04f1-4508-c858-001032e77939"
      },
      "source": [
        "# Start timer\n",
        "start = datetime.datetime.now()\n",
        "\n",
        "n_hidden = 50\n",
        "\n",
        "# Reset the session\n",
        "tf.disable_v2_behavior()\n",
        "tf.reset_default_graph()\n",
        "tf.set_random_seed(42)\n",
        "np.random.seed(42)\n",
        "\n",
        "# Set X and y placeholders\n",
        "X = tf.placeholder(tf.float32, shape=(None, 784), name=\"X\")\n",
        "y = tf.placeholder(tf.int32, shape=(None), name=\"y\")\n",
        "\n",
        "with tf.name_scope(\"dnn\"):\n",
        "    hidden1 = tf.layers.dense(X, n_hidden, name=\"hidden1\",\n",
        "                              activation=tf.nn.relu)\n",
        "    hidden2 = tf.layers.dense(hidden1, n_hidden, name=\"hidden2\",\n",
        "                              activation=tf.nn.relu)\n",
        "    logits = tf.layers.dense(hidden2, 10, name=\"outputs\")\n",
        "    y_proba = tf.nn.softmax(logits)\n",
        "\n",
        "with tf.name_scope(\"loss\"):\n",
        "    xentropy = tf.nn.sparse_softmax_cross_entropy_with_logits(labels=y,\n",
        "                                                              logits=logits)\n",
        "    loss = tf.reduce_mean(xentropy, name=\"loss\")\n",
        "\n",
        "with tf.name_scope(\"train\"):\n",
        "    optimizer = tf.train.GradientDescentOptimizer(learning_rate)\n",
        "    training_op = optimizer.minimize(loss)\n",
        "\n",
        "with tf.name_scope(\"eval\"):\n",
        "    correct = tf.nn.in_top_k(logits, y, 1)\n",
        "    accuracy = tf.reduce_mean(tf.cast(correct, tf.float32))\n",
        "\n",
        "with tf.Session() as sess:\n",
        "    tf.global_variables_initializer().run()\n",
        "    for epoch in range(n_epochs):\n",
        "        for X_batch, y_batch in shuffle_batch(X_train, y_train, batch_size):\n",
        "            sess.run(training_op, feed_dict={X: X_batch, y: y_batch})\n",
        "        acc_train = accuracy.eval(feed_dict={X: X_train, y: y_train})\n",
        "        acc_test = accuracy.eval(feed_dict={X: X_test, y: y_test})\n",
        "\n",
        "# Record the time it takes\n",
        "duration = datetime.datetime.now() - start\n",
        "\n",
        "metrics['Model 1'] = [2, n_hidden, duration, acc_train, acc_test]\n",
        "\n"
      ],
      "execution_count": null,
      "outputs": [
        {
          "output_type": "stream",
          "text": [
            "C:\\Users\\siying\\anaconda3\\lib\\site-packages\\tensorflow\\python\\keras\\legacy_tf_layers\\core.py:171: UserWarning: `tf.layers.dense` is deprecated and will be removed in a future version. Please use `tf.keras.layers.Dense` instead.\n",
            "  warnings.warn('`tf.layers.dense` is deprecated and '\n",
            "C:\\Users\\siying\\anaconda3\\lib\\site-packages\\tensorflow\\python\\keras\\engine\\base_layer_v1.py:1719: UserWarning: `layer.apply` is deprecated and will be removed in a future version. Please use `layer.__call__` method instead.\n",
            "  warnings.warn('`layer.apply` is deprecated and '\n"
          ],
          "name": "stderr"
        }
      ]
    },
    {
      "cell_type": "markdown",
      "metadata": {
        "id": "gkhZ8HPKsZAa"
      },
      "source": [
        "Model 2: 2 Hidden Layers with 100 Nodes per Layer"
      ]
    },
    {
      "cell_type": "code",
      "metadata": {
        "id": "W4k8dxq_iQW4",
        "scrolled": true
      },
      "source": [
        "# Start timer\n",
        "start = datetime.datetime.now()\n",
        "\n",
        "n_hidden = 100\n",
        "\n",
        "# Reset the session\n",
        "tf.disable_v2_behavior()\n",
        "tf.reset_default_graph()\n",
        "tf.set_random_seed(42)\n",
        "np.random.seed(42)\n",
        "\n",
        "# Set X and y placeholders\n",
        "X = tf.placeholder(tf.float32, shape=(None, 784), name=\"X\")\n",
        "y = tf.placeholder(tf.int32, shape=(None), name=\"y\")\n",
        "\n",
        "with tf.name_scope(\"dnn\"):\n",
        "    hidden1 = tf.layers.dense(X, n_hidden, name=\"hidden1\",\n",
        "                              activation=tf.nn.relu)\n",
        "    hidden2 = tf.layers.dense(hidden1, n_hidden, name=\"hidden2\",\n",
        "                              activation=tf.nn.relu)\n",
        "    logits = tf.layers.dense(hidden2, 10, name=\"outputs\")\n",
        "    y_proba = tf.nn.softmax(logits)\n",
        "\n",
        "with tf.name_scope(\"loss\"):\n",
        "    xentropy = tf.nn.sparse_softmax_cross_entropy_with_logits(labels=y,\n",
        "                                                              logits=logits)\n",
        "    loss = tf.reduce_mean(xentropy, name=\"loss\")\n",
        "\n",
        "with tf.name_scope(\"train\"):\n",
        "    optimizer = tf.train.GradientDescentOptimizer(learning_rate)\n",
        "    training_op = optimizer.minimize(loss)\n",
        "\n",
        "with tf.name_scope(\"eval\"):\n",
        "    correct = tf.nn.in_top_k(logits, y, 1)\n",
        "    accuracy = tf.reduce_mean(tf.cast(correct, tf.float32))\n",
        "\n",
        "with tf.Session() as sess:\n",
        "    tf.global_variables_initializer().run()\n",
        "    for epoch in range(n_epochs):\n",
        "        for X_batch, y_batch in shuffle_batch(X_train, y_train, batch_size):\n",
        "            sess.run(training_op, feed_dict={X: X_batch, y: y_batch})\n",
        "        acc_train = accuracy.eval(feed_dict={X: X_train, y: y_train})\n",
        "        acc_test = accuracy.eval(feed_dict={X: X_test, y: y_test})\n",
        "\n",
        "# Record the time it takes\n",
        "duration = datetime.datetime.now() - start\n",
        "\n",
        "metrics['Model 2'] = [2, n_hidden, duration, acc_train, acc_test]\n"
      ],
      "execution_count": null,
      "outputs": []
    },
    {
      "cell_type": "markdown",
      "metadata": {
        "id": "ta2_JkO8sZAb"
      },
      "source": [
        "Model 3: 7 Hidden Layers with 50 Nodes per Layer\n"
      ]
    },
    {
      "cell_type": "code",
      "metadata": {
        "id": "mQH_hewMsZAc"
      },
      "source": [
        "# Start timer\n",
        "start = datetime.datetime.now()\n",
        "\n",
        "n_hidden = 50\n",
        "\n",
        "# Reset the session\n",
        "tf.disable_v2_behavior()\n",
        "tf.reset_default_graph()\n",
        "tf.set_random_seed(42)\n",
        "np.random.seed(42)\n",
        "\n",
        "# Set X and y placeholders\n",
        "X = tf.placeholder(tf.float32, shape=(None, 784), name=\"X\")\n",
        "y = tf.placeholder(tf.int32, shape=(None), name=\"y\")\n",
        "\n",
        "with tf.name_scope(\"dnn\"):\n",
        "    hidden1 = tf.layers.dense(X, n_hidden, name=\"hidden1\",\n",
        "                              activation=tf.nn.relu)\n",
        "    hidden2 = tf.layers.dense(hidden1, n_hidden, name=\"hidden2\",\n",
        "                              activation=tf.nn.relu)\n",
        "    hidden3 = tf.layers.dense(hidden2, n_hidden, name=\"hidden3\",\n",
        "                              activation=tf.nn.relu)\n",
        "    hidden4 = tf.layers.dense(hidden3, n_hidden, name=\"hidden4\",\n",
        "                              activation=tf.nn.relu)\n",
        "    hidden5 = tf.layers.dense(hidden4, n_hidden, name=\"hidden5\",\n",
        "                              activation=tf.nn.relu)\n",
        "    hidden6 = tf.layers.dense(hidden5, n_hidden, name=\"hidden6\",\n",
        "                              activation=tf.nn.relu)\n",
        "    hidden7 = tf.layers.dense(hidden6, n_hidden, name=\"hidden7\",\n",
        "                              activation=tf.nn.relu)\n",
        "    logits = tf.layers.dense(hidden7, 10, name=\"outputs\")\n",
        "    y_proba = tf.nn.softmax(logits)\n",
        "\n",
        "with tf.name_scope(\"loss\"):\n",
        "    xentropy = tf.nn.sparse_softmax_cross_entropy_with_logits(labels=y,\n",
        "                                                              logits=logits)\n",
        "    loss = tf.reduce_mean(xentropy, name=\"loss\")\n",
        "\n",
        "with tf.name_scope(\"train\"):\n",
        "    optimizer = tf.train.GradientDescentOptimizer(learning_rate)\n",
        "    training_op = optimizer.minimize(loss)\n",
        "\n",
        "with tf.name_scope(\"eval\"):\n",
        "    correct = tf.nn.in_top_k(logits, y, 1)\n",
        "    accuracy = tf.reduce_mean(tf.cast(correct, tf.float32))\n",
        "\n",
        "with tf.Session() as sess:\n",
        "    tf.global_variables_initializer().run()\n",
        "    for epoch in range(n_epochs):\n",
        "        for X_batch, y_batch in shuffle_batch(X_train, y_train, batch_size):\n",
        "            sess.run(training_op, feed_dict={X: X_batch, y: y_batch})\n",
        "        acc_train = accuracy.eval(feed_dict={X: X_train, y: y_train})\n",
        "        acc_test = accuracy.eval(feed_dict={X: X_test, y: y_test})\n",
        "\n",
        "# Record the time it takes\n",
        "duration = datetime.datetime.now() - start\n",
        "\n",
        "metrics['Model 3'] = [7, n_hidden, duration, acc_train, acc_test]\n",
        "\n"
      ],
      "execution_count": null,
      "outputs": []
    },
    {
      "cell_type": "markdown",
      "metadata": {
        "id": "YcXHsUQJsZAd"
      },
      "source": [
        "Model 4: 7 Hidden Layers with 100 Nodes per Layer\n"
      ]
    },
    {
      "cell_type": "code",
      "metadata": {
        "id": "4m2k9NNRsZAe"
      },
      "source": [
        "# Start timer\n",
        "start = datetime.datetime.now()\n",
        "\n",
        "n_hidden = 100\n",
        "\n",
        "# Reset the session\n",
        "tf.disable_v2_behavior()\n",
        "tf.reset_default_graph()\n",
        "tf.set_random_seed(42)\n",
        "np.random.seed(42)\n",
        "\n",
        "# Set X and y placeholders\n",
        "X = tf.placeholder(tf.float32, shape=(None, 784), name=\"X\")\n",
        "y = tf.placeholder(tf.int32, shape=(None), name=\"y\")\n",
        "\n",
        "with tf.name_scope(\"dnn\"):\n",
        "    hidden1 = tf.layers.dense(X, n_hidden, name=\"hidden1\",\n",
        "                              activation=tf.nn.relu)\n",
        "    hidden2 = tf.layers.dense(hidden1, n_hidden, name=\"hidden2\",\n",
        "                              activation=tf.nn.relu)\n",
        "    hidden3 = tf.layers.dense(hidden2, n_hidden, name=\"hidden3\",\n",
        "                              activation=tf.nn.relu)\n",
        "    hidden4 = tf.layers.dense(hidden3, n_hidden, name=\"hidden4\",\n",
        "                              activation=tf.nn.relu)\n",
        "    hidden5 = tf.layers.dense(hidden4, n_hidden, name=\"hidden5\",\n",
        "                              activation=tf.nn.relu)\n",
        "    hidden6 = tf.layers.dense(hidden5, n_hidden, name=\"hidden6\",\n",
        "                              activation=tf.nn.relu)\n",
        "    hidden7 = tf.layers.dense(hidden6, n_hidden, name=\"hidden7\",\n",
        "                              activation=tf.nn.relu)\n",
        "    logits = tf.layers.dense(hidden7, 10, name=\"outputs\")\n",
        "    y_proba = tf.nn.softmax(logits)\n",
        "\n",
        "with tf.name_scope(\"loss\"):\n",
        "    xentropy = tf.nn.sparse_softmax_cross_entropy_with_logits(labels=y,\n",
        "                                                              logits=logits)\n",
        "    loss = tf.reduce_mean(xentropy, name=\"loss\")\n",
        "\n",
        "with tf.name_scope(\"train\"):\n",
        "    optimizer = tf.train.GradientDescentOptimizer(learning_rate)\n",
        "    training_op = optimizer.minimize(loss)\n",
        "\n",
        "with tf.name_scope(\"eval\"):\n",
        "    correct = tf.nn.in_top_k(logits, y, 1)\n",
        "    accuracy = tf.reduce_mean(tf.cast(correct, tf.float32))\n",
        "\n",
        "with tf.Session() as sess:\n",
        "    tf.global_variables_initializer().run()\n",
        "    for epoch in range(n_epochs):\n",
        "        for X_batch, y_batch in shuffle_batch(X_train, y_train, batch_size):\n",
        "            sess.run(training_op, feed_dict={X: X_batch, y: y_batch})\n",
        "        acc_train = accuracy.eval(feed_dict={X: X_train, y: y_train})\n",
        "        acc_test = accuracy.eval(feed_dict={X: X_test, y: y_test})\n",
        "\n",
        "# Record the time it takes\n",
        "duration = datetime.datetime.now() - start\n",
        "\n",
        "metrics['Model 4'] = [7, n_hidden, duration, acc_train, acc_test]\n",
        "\n"
      ],
      "execution_count": null,
      "outputs": []
    },
    {
      "cell_type": "code",
      "metadata": {
        "scrolled": false,
        "id": "pxO_lTB4sZAe",
        "outputId": "19784e98-3b84-42fb-dc76-ad3888d90a6d"
      },
      "source": [
        "# Convert metrics dictionary to dataframe for display\n",
        "results = pd.DataFrame.from_dict(metrics, orient='index')\n",
        "results.columns = names\n",
        "\n",
        "# Sort by model number\n",
        "results.reset_index(inplace=True)\n",
        "results.sort_values(by=['index'], axis=0, inplace=True)\n",
        "results.set_index(['index'], inplace=True)\n",
        "results.index.name = None\n",
        "results\n"
      ],
      "execution_count": null,
      "outputs": [
        {
          "output_type": "execute_result",
          "data": {
            "text/html": [
              "<div>\n",
              "<style scoped>\n",
              "    .dataframe tbody tr th:only-of-type {\n",
              "        vertical-align: middle;\n",
              "    }\n",
              "\n",
              "    .dataframe tbody tr th {\n",
              "        vertical-align: top;\n",
              "    }\n",
              "\n",
              "    .dataframe thead th {\n",
              "        text-align: right;\n",
              "    }\n",
              "</style>\n",
              "<table border=\"1\" class=\"dataframe\">\n",
              "  <thead>\n",
              "    <tr style=\"text-align: right;\">\n",
              "      <th></th>\n",
              "      <th>Number of Hidden Layers</th>\n",
              "      <th>Nodes per Layer</th>\n",
              "      <th>Processing Time</th>\n",
              "      <th>Training Set Accuracy</th>\n",
              "      <th>Test Set Accuracy</th>\n",
              "    </tr>\n",
              "  </thead>\n",
              "  <tbody>\n",
              "    <tr>\n",
              "      <th>Model 1</th>\n",
              "      <td>2</td>\n",
              "      <td>50</td>\n",
              "      <td>0 days 00:00:31.015670</td>\n",
              "      <td>0.967650</td>\n",
              "      <td>0.9595</td>\n",
              "    </tr>\n",
              "    <tr>\n",
              "      <th>Model 2</th>\n",
              "      <td>2</td>\n",
              "      <td>100</td>\n",
              "      <td>0 days 00:00:38.652061</td>\n",
              "      <td>0.975217</td>\n",
              "      <td>0.9682</td>\n",
              "    </tr>\n",
              "    <tr>\n",
              "      <th>Model 3</th>\n",
              "      <td>7</td>\n",
              "      <td>50</td>\n",
              "      <td>0 days 00:00:41.632629</td>\n",
              "      <td>0.985667</td>\n",
              "      <td>0.9674</td>\n",
              "    </tr>\n",
              "    <tr>\n",
              "      <th>Model 4</th>\n",
              "      <td>7</td>\n",
              "      <td>100</td>\n",
              "      <td>0 days 00:01:02.379867</td>\n",
              "      <td>0.993350</td>\n",
              "      <td>0.9727</td>\n",
              "    </tr>\n",
              "  </tbody>\n",
              "</table>\n",
              "</div>"
            ],
            "text/plain": [
              "         Number of Hidden Layers  Nodes per Layer        Processing Time  \\\n",
              "Model 1                        2               50 0 days 00:00:31.015670   \n",
              "Model 2                        2              100 0 days 00:00:38.652061   \n",
              "Model 3                        7               50 0 days 00:00:41.632629   \n",
              "Model 4                        7              100 0 days 00:01:02.379867   \n",
              "\n",
              "         Training Set Accuracy  Test Set Accuracy  \n",
              "Model 1               0.967650             0.9595  \n",
              "Model 2               0.975217             0.9682  \n",
              "Model 3               0.985667             0.9674  \n",
              "Model 4               0.993350             0.9727  "
            ]
          },
          "metadata": {
            "tags": []
          },
          "execution_count": 71
        }
      ]
    },
    {
      "cell_type": "markdown",
      "metadata": {
        "id": "4mPtRR5hsZAf"
      },
      "source": [
        "# Conclusion"
      ]
    },
    {
      "cell_type": "markdown",
      "metadata": {
        "id": "xBb1eRzss8TJ"
      },
      "source": [
        "**Background and management problem description**\r\n",
        "\r\n",
        "Continue work on the Digit Recognition problem to test neural network structures within a benchmark experiment. Using the conclusion from bench mark study to recommend the most trustworthy neural network typology and hyperparameter settings to the financial institution evaluating machine learning technologies for optical character recognition.\r\n",
        "\r\n",
        "**Research design and modeling methods**\r\n",
        "\r\n",
        "Apply the TensorFlow library instead of SciKit Learn’s Random Forest Classifier to build a model that successfully assigns a digit that is equal to the handwritten one. The steps for the analysis are the following: 1) Build a ‘Deep Neural Network’ (DNN) model using TensorFlow 2) Train & test various designs of the model using ‘hidden layers’ 3) Time the model build and record the train/test accuracy 4) Compare the model timing, train accuracy and test accuracy\r\n",
        "\r\n",
        "**Results and Recommendations**\r\n",
        "\r\n",
        "Below is a summary of the models that were created in the process of this analysis and their performance comparison. Performance variables include processing time and the accuracy scores of training & test sets.\r\n",
        "\r\n",
        "![image.png](data:image/png;base64,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)\r\n",
        "\r\n",
        "The recommendation is to use Model 2. Although it takes longer to train than Model 1, the accuracy of the test predictions is higher than Model 1. On the other hand, it takes shorter to train than Model 3 while providing better accuracy of test set than Model 3. Compared with Model 4, though the test set accuracy is lower, it takes much shorter time to process. And Model 4 with 0.99 training set accuracy, which might indicate overfitting. Therefore, I would recommend Model 2 with 2 hidden layers and 100 nodes per layer to be the most trustworthy DNN setting in this benchmark experiment, compared with other three models. Also, compared with Assignment 5 using Random Forest Classifier, the accuracy and processing time are both improved using Tensorflow DNN."
      ]
    }
  ]
}